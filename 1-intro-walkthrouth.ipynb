{
 "cells": [
  {
   "cell_type": "markdown",
   "metadata": {},
   "source": [
    "## Intro to numpy"
   ]
  },
  {
   "cell_type": "code",
   "execution_count": 1,
   "metadata": {},
   "outputs": [],
   "source": [
    "import numpy as np"
   ]
  },
  {
   "cell_type": "code",
   "execution_count": 2,
   "metadata": {},
   "outputs": [
    {
     "data": {
      "text/plain": [
       "[0, 1, 2, 3, 4, 5, 6, 7, 8, 9]"
      ]
     },
     "execution_count": 2,
     "metadata": {},
     "output_type": "execute_result"
    }
   ],
   "source": [
    "l = list(range(10))\n",
    "l"
   ]
  },
  {
   "cell_type": "code",
   "execution_count": 3,
   "metadata": {},
   "outputs": [
    {
     "data": {
      "text/plain": [
       "array([0, 1, 2, 3, 4, 5, 6, 7, 8, 9])"
      ]
     },
     "execution_count": 3,
     "metadata": {},
     "output_type": "execute_result"
    }
   ],
   "source": [
    "a = np.array(l)\n",
    "a"
   ]
  },
  {
   "cell_type": "code",
   "execution_count": 4,
   "metadata": {},
   "outputs": [
    {
     "data": {
      "text/plain": [
       "45"
      ]
     },
     "execution_count": 4,
     "metadata": {},
     "output_type": "execute_result"
    }
   ],
   "source": [
    "sum(l)"
   ]
  },
  {
   "cell_type": "code",
   "execution_count": 5,
   "metadata": {},
   "outputs": [
    {
     "data": {
      "text/plain": [
       "45"
      ]
     },
     "execution_count": 5,
     "metadata": {},
     "output_type": "execute_result"
    }
   ],
   "source": [
    "a.sum()"
   ]
  },
  {
   "cell_type": "markdown",
   "metadata": {},
   "source": [
    "### Performance comparison"
   ]
  },
  {
   "cell_type": "code",
   "execution_count": 6,
   "metadata": {},
   "outputs": [],
   "source": [
    "l = list(range(int(10e5)))\n",
    "a = np.array(l)"
   ]
  },
  {
   "cell_type": "code",
   "execution_count": 7,
   "metadata": {},
   "outputs": [
    {
     "name": "stdout",
     "output_type": "stream",
     "text": [
      "10.5 ms ± 505 µs per loop (mean ± std. dev. of 7 runs, 100 loops each)\n"
     ]
    }
   ],
   "source": [
    "%timeit sum(l)"
   ]
  },
  {
   "cell_type": "code",
   "execution_count": 8,
   "metadata": {},
   "outputs": [
    {
     "name": "stdout",
     "output_type": "stream",
     "text": [
      "736 µs ± 71.3 µs per loop (mean ± std. dev. of 7 runs, 1000 loops each)\n"
     ]
    }
   ],
   "source": [
    "%timeit np.sum(a)"
   ]
  },
  {
   "cell_type": "markdown",
   "metadata": {},
   "source": [
    "### Simple statistics with numpy"
   ]
  },
  {
   "cell_type": "code",
   "execution_count": 9,
   "metadata": {},
   "outputs": [
    {
     "data": {
      "text/plain": [
       "(499999.5, 288675.1345946685, 83333333333.25)"
      ]
     },
     "execution_count": 9,
     "metadata": {},
     "output_type": "execute_result"
    }
   ],
   "source": [
    "a.mean(), a.std(), a.var()"
   ]
  },
  {
   "cell_type": "markdown",
   "metadata": {},
   "source": [
    "### Multidimensional arrays"
   ]
  },
  {
   "cell_type": "code",
   "execution_count": 10,
   "metadata": {},
   "outputs": [
    {
     "data": {
      "text/plain": [
       "(array([0., 0., 0., 0., 0., 0., 0., 0., 0., 0.]), (10,))"
      ]
     },
     "execution_count": 10,
     "metadata": {},
     "output_type": "execute_result"
    }
   ],
   "source": [
    "a = np.zeros(10)\n",
    "a, a.shape"
   ]
  },
  {
   "cell_type": "code",
   "execution_count": 11,
   "metadata": {},
   "outputs": [
    {
     "data": {
      "text/plain": [
       "(array([[0., 0., 0., 0., 0., 0., 0., 0., 0., 0.]]), (1, 10))"
      ]
     },
     "execution_count": 11,
     "metadata": {},
     "output_type": "execute_result"
    }
   ],
   "source": [
    "a = np.zeros((1, 10))\n",
    "a, a.shape"
   ]
  },
  {
   "cell_type": "code",
   "execution_count": 12,
   "metadata": {},
   "outputs": [
    {
     "data": {
      "text/plain": [
       "(array([[0.],\n",
       "        [0.],\n",
       "        [0.],\n",
       "        [0.],\n",
       "        [0.],\n",
       "        [0.],\n",
       "        [0.],\n",
       "        [0.],\n",
       "        [0.],\n",
       "        [0.]]),\n",
       " (10, 1))"
      ]
     },
     "execution_count": 12,
     "metadata": {},
     "output_type": "execute_result"
    }
   ],
   "source": [
    "a = np.zeros((10, 1))\n",
    "a, a.shape"
   ]
  },
  {
   "cell_type": "code",
   "execution_count": 13,
   "metadata": {},
   "outputs": [
    {
     "data": {
      "text/plain": [
       "(array([[0., 0., 0., 0., 0., 0., 0., 0., 0., 0.],\n",
       "        [0., 0., 0., 0., 0., 0., 0., 0., 0., 0.],\n",
       "        [0., 0., 0., 0., 0., 0., 0., 0., 0., 0.],\n",
       "        [0., 0., 0., 0., 0., 0., 0., 0., 0., 0.],\n",
       "        [0., 0., 0., 0., 0., 0., 0., 0., 0., 0.],\n",
       "        [0., 0., 0., 0., 0., 0., 0., 0., 0., 0.],\n",
       "        [0., 0., 0., 0., 0., 0., 0., 0., 0., 0.],\n",
       "        [0., 0., 0., 0., 0., 0., 0., 0., 0., 0.],\n",
       "        [0., 0., 0., 0., 0., 0., 0., 0., 0., 0.],\n",
       "        [0., 0., 0., 0., 0., 0., 0., 0., 0., 0.]]),\n",
       " (10, 10))"
      ]
     },
     "execution_count": 13,
     "metadata": {},
     "output_type": "execute_result"
    }
   ],
   "source": [
    "a = np.zeros((10, 10))\n",
    "a, a.shape"
   ]
  },
  {
   "cell_type": "markdown",
   "metadata": {},
   "source": [
    "### Indexing"
   ]
  },
  {
   "cell_type": "code",
   "execution_count": 14,
   "metadata": {},
   "outputs": [
    {
     "data": {
      "text/plain": [
       "array([[ 0,  1,  2,  3],\n",
       "       [ 4,  5,  6,  7],\n",
       "       [ 8,  9, 10, 11],\n",
       "       [12, 13, 14, 15]])"
      ]
     },
     "execution_count": 14,
     "metadata": {},
     "output_type": "execute_result"
    }
   ],
   "source": [
    "a = np.arange(16)\n",
    "a = a.reshape(4, 4)\n",
    "a"
   ]
  },
  {
   "cell_type": "code",
   "execution_count": 15,
   "metadata": {},
   "outputs": [
    {
     "data": {
      "text/plain": [
       "(0, 5, 1)"
      ]
     },
     "execution_count": 15,
     "metadata": {},
     "output_type": "execute_result"
    }
   ],
   "source": [
    "a[0, 0], a[1, 1], a[0, 1]"
   ]
  },
  {
   "cell_type": "code",
   "execution_count": 16,
   "metadata": {},
   "outputs": [
    {
     "data": {
      "text/plain": [
       "array([0, 1, 2, 3])"
      ]
     },
     "execution_count": 16,
     "metadata": {},
     "output_type": "execute_result"
    }
   ],
   "source": [
    "first_row = a[0, :]\n",
    "first_row"
   ]
  },
  {
   "cell_type": "code",
   "execution_count": 17,
   "metadata": {},
   "outputs": [
    {
     "data": {
      "text/plain": [
       "array([ 0,  4,  8, 12])"
      ]
     },
     "execution_count": 17,
     "metadata": {},
     "output_type": "execute_result"
    }
   ],
   "source": [
    "first_column = a[:, 0]\n",
    "first_column"
   ]
  },
  {
   "cell_type": "code",
   "execution_count": 18,
   "metadata": {},
   "outputs": [
    {
     "data": {
      "text/plain": [
       "array([[ 0,  1,  2],\n",
       "       [ 4,  5,  6],\n",
       "       [ 8,  9, 10]])"
      ]
     },
     "execution_count": 18,
     "metadata": {},
     "output_type": "execute_result"
    }
   ],
   "source": [
    "sub_grid = a[:3, :3]\n",
    "sub_grid"
   ]
  },
  {
   "cell_type": "markdown",
   "metadata": {},
   "source": [
    "### Array operations"
   ]
  },
  {
   "cell_type": "code",
   "execution_count": 19,
   "metadata": {},
   "outputs": [
    {
     "data": {
      "text/plain": [
       "array([ 3,  4,  5,  6,  7,  8,  9, 10, 11, 12])"
      ]
     },
     "execution_count": 19,
     "metadata": {},
     "output_type": "execute_result"
    }
   ],
   "source": [
    "a = np.arange(10) + 3\n",
    "a"
   ]
  },
  {
   "cell_type": "code",
   "execution_count": 20,
   "metadata": {},
   "outputs": [
    {
     "data": {
      "text/plain": [
       "(array([0, 1, 2, 3, 4, 5, 6, 7, 8, 9]),\n",
       " array([10, 11, 12, 13, 14, 15, 16, 17, 18, 19]),\n",
       " array([10, 12, 14, 16, 18, 20, 22, 24, 26, 28]))"
      ]
     },
     "execution_count": 20,
     "metadata": {},
     "output_type": "execute_result"
    }
   ],
   "source": [
    "a = np.arange(10)\n",
    "b = np.arange(10, 20)\n",
    "\n",
    "a, b, a + b"
   ]
  },
  {
   "cell_type": "code",
   "execution_count": 21,
   "metadata": {},
   "outputs": [
    {
     "data": {
      "text/plain": [
       "array([[0, 1],\n",
       "       [2, 3],\n",
       "       [4, 5]])"
      ]
     },
     "execution_count": 21,
     "metadata": {},
     "output_type": "execute_result"
    }
   ],
   "source": [
    "a = np.arange(6).reshape(3, 2)\n",
    "a"
   ]
  },
  {
   "cell_type": "code",
   "execution_count": 22,
   "metadata": {},
   "outputs": [
    {
     "data": {
      "text/plain": [
       "(2,)"
      ]
     },
     "execution_count": 22,
     "metadata": {},
     "output_type": "execute_result"
    }
   ],
   "source": [
    "a.sum(axis=0).shape"
   ]
  },
  {
   "cell_type": "markdown",
   "metadata": {},
   "source": [
    "## Plotting with Matplotlib"
   ]
  },
  {
   "cell_type": "code",
   "execution_count": 23,
   "metadata": {},
   "outputs": [],
   "source": [
    "from matplotlib import pyplot as plt"
   ]
  },
  {
   "cell_type": "code",
   "execution_count": 24,
   "metadata": {},
   "outputs": [
    {
     "data": {
      "text/plain": [
       "array([0, 1, 2, 3, 4, 5, 6, 7, 8, 9])"
      ]
     },
     "execution_count": 24,
     "metadata": {},
     "output_type": "execute_result"
    }
   ],
   "source": [
    "a = np.arange(10)\n",
    "a"
   ]
  },
  {
   "cell_type": "code",
   "execution_count": 25,
   "metadata": {},
   "outputs": [
    {
     "data": {
      "text/plain": [
       "Text(0, 0.5, 'values')"
      ]
     },
     "execution_count": 25,
     "metadata": {},
     "output_type": "execute_result"
    },
    {
     "data": {
      "image/png": "[encoded data removed]",
      "text/plain": [
       "<Figure size 432x288 with 1 Axes>"
      ]
     },
     "metadata": {
      "needs_background": "light"
     },
     "output_type": "display_data"
    }
   ],
   "source": [
    "plt.plot(a)\n",
    "plt.title(\"My first plot\")\n",
    "plt.xlabel(\"indexes\")\n",
    "plt.ylabel(\"values\")"
   ]
  },
  {
   "cell_type": "code",
   "execution_count": 26,
   "metadata": {},
   "outputs": [
    {
     "data": {
      "text/plain": [
       "array([ 0,  1,  4,  9, 16, 25, 36, 49, 64, 81])"
      ]
     },
     "execution_count": 26,
     "metadata": {},
     "output_type": "execute_result"
    }
   ],
   "source": [
    "x = np.arange(10) ** 2\n",
    "x"
   ]
  },
  {
   "cell_type": "code",
   "execution_count": 27,
   "metadata": {},
   "outputs": [
    {
     "data": {
      "text/plain": [
       "[<matplotlib.lines.Line2D at 0x11d2acb80>]"
      ]
     },
     "execution_count": 27,
     "metadata": {},
     "output_type": "execute_result"
    },
    {
     "data": {
      "image/png": "[encoded data removed]",
      "text/plain": [
       "<Figure size 432x288 with 1 Axes>"
      ]
     },
     "metadata": {
      "needs_background": "light"
     },
     "output_type": "display_data"
    }
   ],
   "source": [
    "plt.plot(x)\n",
    "plt.plot(x, 'o')"
   ]
  },
  {
   "cell_type": "markdown",
   "metadata": {},
   "source": [
    "### Let's import a dataset"
   ]
  },
  {
   "cell_type": "code",
   "execution_count": 28,
   "metadata": {},
   "outputs": [],
   "source": [
    "from sklearn.datasets import load_iris"
   ]
  },
  {
   "cell_type": "code",
   "execution_count": 29,
   "metadata": {},
   "outputs": [],
   "source": [
    "iris = load_iris()"
   ]
  },
  {
   "cell_type": "code",
   "execution_count": 83,
   "metadata": {},
   "outputs": [
    {
     "data": {
      "text/plain": [
       "['DESCR',\n",
       " 'data',\n",
       " 'feature_names',\n",
       " 'filename',\n",
       " 'frame',\n",
       " 'target',\n",
       " 'target_names']"
      ]
     },
     "execution_count": 83,
     "metadata": {},
     "output_type": "execute_result"
    }
   ],
   "source": [
    "dir(iris)"
   ]
  },
  {
   "cell_type": "code",
   "execution_count": 30,
   "metadata": {},
   "outputs": [
    {
     "data": {
      "text/plain": [
       "(150, 4)"
      ]
     },
     "execution_count": 30,
     "metadata": {},
     "output_type": "execute_result"
    }
   ],
   "source": [
    "iris.data.shape"
   ]
  },
  {
   "cell_type": "code",
   "execution_count": 31,
   "metadata": {},
   "outputs": [
    {
     "data": {
      "text/plain": [
       "array([0, 0, 0, 0, 0, 0, 0, 0, 0, 0, 0, 0, 0, 0, 0, 0, 0, 0, 0, 0, 0, 0,\n",
       "       0, 0, 0, 0, 0, 0, 0, 0, 0, 0, 0, 0, 0, 0, 0, 0, 0, 0, 0, 0, 0, 0,\n",
       "       0, 0, 0, 0, 0, 0, 1, 1, 1, 1, 1, 1, 1, 1, 1, 1, 1, 1, 1, 1, 1, 1,\n",
       "       1, 1, 1, 1, 1, 1, 1, 1, 1, 1, 1, 1, 1, 1, 1, 1, 1, 1, 1, 1, 1, 1,\n",
       "       1, 1, 1, 1, 1, 1, 1, 1, 1, 1, 1, 1, 2, 2, 2, 2, 2, 2, 2, 2, 2, 2,\n",
       "       2, 2, 2, 2, 2, 2, 2, 2, 2, 2, 2, 2, 2, 2, 2, 2, 2, 2, 2, 2, 2, 2,\n",
       "       2, 2, 2, 2, 2, 2, 2, 2, 2, 2, 2, 2, 2, 2, 2, 2, 2, 2])"
      ]
     },
     "execution_count": 31,
     "metadata": {},
     "output_type": "execute_result"
    }
   ],
   "source": [
    "iris.target"
   ]
  },
  {
   "cell_type": "code",
   "execution_count": 32,
   "metadata": {},
   "outputs": [
    {
     "data": {
      "text/plain": [
       "(3.4644999999999997, 1.9738430577598278)"
      ]
     },
     "execution_count": 32,
     "metadata": {},
     "output_type": "execute_result"
    }
   ],
   "source": [
    "iris.data.mean(), iris.data.std()"
   ]
  },
  {
   "cell_type": "code",
   "execution_count": 33,
   "metadata": {},
   "outputs": [
    {
     "data": {
      "text/plain": [
       "array([5.84333333, 3.05733333, 3.758     , 1.19933333])"
      ]
     },
     "execution_count": 33,
     "metadata": {},
     "output_type": "execute_result"
    }
   ],
   "source": [
    "iris.data.mean(axis=0)"
   ]
  },
  {
   "cell_type": "code",
   "execution_count": 34,
   "metadata": {},
   "outputs": [
    {
     "data": {
      "text/plain": [
       "\u001b[0;31mSignature:\u001b[0m\n",
       "\u001b[0mplt\u001b[0m\u001b[0;34m.\u001b[0m\u001b[0mboxplot\u001b[0m\u001b[0;34m(\u001b[0m\u001b[0;34m\u001b[0m\n",
       "\u001b[0;34m\u001b[0m    \u001b[0mx\u001b[0m\u001b[0;34m,\u001b[0m\u001b[0;34m\u001b[0m\n",
       "\u001b[0;34m\u001b[0m    \u001b[0mnotch\u001b[0m\u001b[0;34m=\u001b[0m\u001b[0;32mNone\u001b[0m\u001b[0;34m,\u001b[0m\u001b[0;34m\u001b[0m\n",
       "\u001b[0;34m\u001b[0m    \u001b[0msym\u001b[0m\u001b[0;34m=\u001b[0m\u001b[0;32mNone\u001b[0m\u001b[0;34m,\u001b[0m\u001b[0;34m\u001b[0m\n",
       "\u001b[0;34m\u001b[0m    \u001b[0mvert\u001b[0m\u001b[0;34m=\u001b[0m\u001b[0;32mNone\u001b[0m\u001b[0;34m,\u001b[0m\u001b[0;34m\u001b[0m\n",
       "\u001b[0;34m\u001b[0m    \u001b[0mwhis\u001b[0m\u001b[0;34m=\u001b[0m\u001b[0;32mNone\u001b[0m\u001b[0;34m,\u001b[0m\u001b[0;34m\u001b[0m\n",
       "\u001b[0;34m\u001b[0m    \u001b[0mpositions\u001b[0m\u001b[0;34m=\u001b[0m\u001b[0;32mNone\u001b[0m\u001b[0;34m,\u001b[0m\u001b[0;34m\u001b[0m\n",
       "\u001b[0;34m\u001b[0m    \u001b[0mwidths\u001b[0m\u001b[0;34m=\u001b[0m\u001b[0;32mNone\u001b[0m\u001b[0;34m,\u001b[0m\u001b[0;34m\u001b[0m\n",
       "\u001b[0;34m\u001b[0m    \u001b[0mpatch_artist\u001b[0m\u001b[0;34m=\u001b[0m\u001b[0;32mNone\u001b[0m\u001b[0;34m,\u001b[0m\u001b[0;34m\u001b[0m\n",
       "\u001b[0;34m\u001b[0m    \u001b[0mbootstrap\u001b[0m\u001b[0;34m=\u001b[0m\u001b[0;32mNone\u001b[0m\u001b[0;34m,\u001b[0m\u001b[0;34m\u001b[0m\n",
       "\u001b[0;34m\u001b[0m    \u001b[0musermedians\u001b[0m\u001b[0;34m=\u001b[0m\u001b[0;32mNone\u001b[0m\u001b[0;34m,\u001b[0m\u001b[0;34m\u001b[0m\n",
       "\u001b[0;34m\u001b[0m    \u001b[0mconf_intervals\u001b[0m\u001b[0;34m=\u001b[0m\u001b[0;32mNone\u001b[0m\u001b[0;34m,\u001b[0m\u001b[0;34m\u001b[0m\n",
       "\u001b[0;34m\u001b[0m    \u001b[0mmeanline\u001b[0m\u001b[0;34m=\u001b[0m\u001b[0;32mNone\u001b[0m\u001b[0;34m,\u001b[0m\u001b[0;34m\u001b[0m\n",
       "\u001b[0;34m\u001b[0m    \u001b[0mshowmeans\u001b[0m\u001b[0;34m=\u001b[0m\u001b[0;32mNone\u001b[0m\u001b[0;34m,\u001b[0m\u001b[0;34m\u001b[0m\n",
       "\u001b[0;34m\u001b[0m    \u001b[0mshowcaps\u001b[0m\u001b[0;34m=\u001b[0m\u001b[0;32mNone\u001b[0m\u001b[0;34m,\u001b[0m\u001b[0;34m\u001b[0m\n",
       "\u001b[0;34m\u001b[0m    \u001b[0mshowbox\u001b[0m\u001b[0;34m=\u001b[0m\u001b[0;32mNone\u001b[0m\u001b[0;34m,\u001b[0m\u001b[0;34m\u001b[0m\n",
       "\u001b[0;34m\u001b[0m    \u001b[0mshowfliers\u001b[0m\u001b[0;34m=\u001b[0m\u001b[0;32mNone\u001b[0m\u001b[0;34m,\u001b[0m\u001b[0;34m\u001b[0m\n",
       "\u001b[0;34m\u001b[0m    \u001b[0mboxprops\u001b[0m\u001b[0;34m=\u001b[0m\u001b[0;32mNone\u001b[0m\u001b[0;34m,\u001b[0m\u001b[0;34m\u001b[0m\n",
       "\u001b[0;34m\u001b[0m    \u001b[0mlabels\u001b[0m\u001b[0;34m=\u001b[0m\u001b[0;32mNone\u001b[0m\u001b[0;34m,\u001b[0m\u001b[0;34m\u001b[0m\n",
       "\u001b[0;34m\u001b[0m    \u001b[0mflierprops\u001b[0m\u001b[0;34m=\u001b[0m\u001b[0;32mNone\u001b[0m\u001b[0;34m,\u001b[0m\u001b[0;34m\u001b[0m\n",
       "\u001b[0;34m\u001b[0m    \u001b[0mmedianprops\u001b[0m\u001b[0;34m=\u001b[0m\u001b[0;32mNone\u001b[0m\u001b[0;34m,\u001b[0m\u001b[0;34m\u001b[0m\n",
       "\u001b[0;34m\u001b[0m    \u001b[0mmeanprops\u001b[0m\u001b[0;34m=\u001b[0m\u001b[0;32mNone\u001b[0m\u001b[0;34m,\u001b[0m\u001b[0;34m\u001b[0m\n",
       "\u001b[0;34m\u001b[0m    \u001b[0mcapprops\u001b[0m\u001b[0;34m=\u001b[0m\u001b[0;32mNone\u001b[0m\u001b[0;34m,\u001b[0m\u001b[0;34m\u001b[0m\n",
       "\u001b[0;34m\u001b[0m    \u001b[0mwhiskerprops\u001b[0m\u001b[0;34m=\u001b[0m\u001b[0;32mNone\u001b[0m\u001b[0;34m,\u001b[0m\u001b[0;34m\u001b[0m\n",
       "\u001b[0;34m\u001b[0m    \u001b[0mmanage_ticks\u001b[0m\u001b[0;34m=\u001b[0m\u001b[0;32mTrue\u001b[0m\u001b[0;34m,\u001b[0m\u001b[0;34m\u001b[0m\n",
       "\u001b[0;34m\u001b[0m    \u001b[0mautorange\u001b[0m\u001b[0;34m=\u001b[0m\u001b[0;32mFalse\u001b[0m\u001b[0;34m,\u001b[0m\u001b[0;34m\u001b[0m\n",
       "\u001b[0;34m\u001b[0m    \u001b[0mzorder\u001b[0m\u001b[0;34m=\u001b[0m\u001b[0;32mNone\u001b[0m\u001b[0;34m,\u001b[0m\u001b[0;34m\u001b[0m\n",
       "\u001b[0;34m\u001b[0m    \u001b[0;34m*\u001b[0m\u001b[0;34m,\u001b[0m\u001b[0;34m\u001b[0m\n",
       "\u001b[0;34m\u001b[0m    \u001b[0mdata\u001b[0m\u001b[0;34m=\u001b[0m\u001b[0;32mNone\u001b[0m\u001b[0;34m,\u001b[0m\u001b[0;34m\u001b[0m\n",
       "\u001b[0;34m\u001b[0m\u001b[0;34m)\u001b[0m\u001b[0;34m\u001b[0m\u001b[0;34m\u001b[0m\u001b[0m\n",
       "\u001b[0;31mDocstring:\u001b[0m\n",
       "Make a box and whisker plot.\n",
       "\n",
       "Make a box and whisker plot for each column of ``x`` or each\n",
       "vector in sequence ``x``.  The box extends from the lower to\n",
       "upper quartile values of the data, with a line at the median.\n",
       "The whiskers extend from the box to show the range of the\n",
       "data.  Flier points are those past the end of the whiskers.\n",
       "\n",
       "Parameters\n",
       "----------\n",
       "x : Array or a sequence of vectors.\n",
       "    The input data.\n",
       "\n",
       "notch : bool, optional (False)\n",
       "    If `True`, will produce a notched box plot. Otherwise, a\n",
       "    rectangular boxplot is produced. The notches represent the\n",
       "    confidence interval (CI) around the median. See the entry\n",
       "    for the ``bootstrap`` parameter for information regarding\n",
       "    how the locations of the notches are computed.\n",
       "\n",
       "    .. note::\n",
       "\n",
       "        In cases where the values of the CI are less than the\n",
       "        lower quartile or greater than the upper quartile, the\n",
       "        notches will extend beyond the box, giving it a\n",
       "        distinctive \"flipped\" appearance. This is expected\n",
       "        behavior and consistent with other statistical\n",
       "        visualization packages.\n",
       "\n",
       "sym : str, optional\n",
       "    The default symbol for flier points. Enter an empty string\n",
       "    ('') if you don't want to show fliers. If `None`, then the\n",
       "    fliers default to 'b+'  If you want more control use the\n",
       "    flierprops kwarg.\n",
       "\n",
       "vert : bool, optional (True)\n",
       "    If `True` (default), makes the boxes vertical. If `False`,\n",
       "    everything is drawn horizontally.\n",
       "\n",
       "whis : float or (float, float) (default = 1.5)\n",
       "    The position of the whiskers.\n",
       "\n",
       "    If a float, the lower whisker is at the lowest datum above\n",
       "    ``Q1 - whis*(Q3-Q1)``, and the upper whisker at the highest datum\n",
       "    below ``Q3 + whis*(Q3-Q1)``, where Q1 and Q3 are the first and\n",
       "    third quartiles.  The default value of ``whis = 1.5`` corresponds\n",
       "    to Tukey's original definition of boxplots.\n",
       "\n",
       "    If a pair of floats, they indicate the percentiles at which to\n",
       "    draw the whiskers (e.g., (5, 95)).  In particular, setting this to\n",
       "    (0, 100) results in whiskers covering the whole range of the data.\n",
       "    \"range\" is a deprecated synonym for (0, 100).\n",
       "\n",
       "    In the edge case where ``Q1 == Q3``, *whis* is automatically set\n",
       "    to (0, 100) (cover the whole range of the data) if *autorange* is\n",
       "    True.\n",
       "\n",
       "    Beyond the whiskers, data are considered outliers and are plotted\n",
       "    as individual points.\n",
       "\n",
       "bootstrap : int, optional\n",
       "    Specifies whether to bootstrap the confidence intervals\n",
       "    around the median for notched boxplots. If ``bootstrap`` is\n",
       "    None, no bootstrapping is performed, and notches are\n",
       "    calculated using a Gaussian-based asymptotic approximation\n",
       "    (see McGill, R., Tukey, J.W., and Larsen, W.A., 1978, and\n",
       "    Kendall and Stuart, 1967). Otherwise, bootstrap specifies\n",
       "    the number of times to bootstrap the median to determine its\n",
       "    95% confidence intervals. Values between 1000 and 10000 are\n",
       "    recommended.\n",
       "\n",
       "usermedians : array-like, optional\n",
       "    An array or sequence whose first dimension (or length) is\n",
       "    compatible with ``x``. This overrides the medians computed\n",
       "    by matplotlib for each element of ``usermedians`` that is not\n",
       "    `None`. When an element of ``usermedians`` is None, the median\n",
       "    will be computed by matplotlib as normal.\n",
       "\n",
       "conf_intervals : array-like, optional\n",
       "    Array or sequence whose first dimension (or length) is\n",
       "    compatible with ``x`` and whose second dimension is 2. When\n",
       "    the an element of ``conf_intervals`` is not None, the\n",
       "    notch locations computed by matplotlib are overridden\n",
       "    (provided ``notch`` is `True`). When an element of\n",
       "    ``conf_intervals`` is `None`, the notches are computed by the\n",
       "    method specified by the other kwargs (e.g., ``bootstrap``).\n",
       "\n",
       "positions : array-like, optional\n",
       "    Sets the positions of the boxes. The ticks and limits are\n",
       "    automatically set to match the positions. Defaults to\n",
       "    `range(1, N+1)` where N is the number of boxes to be drawn.\n",
       "\n",
       "widths : scalar or array-like\n",
       "    Sets the width of each box either with a scalar or a\n",
       "    sequence. The default is 0.5, or ``0.15*(distance between\n",
       "    extreme positions)``, if that is smaller.\n",
       "\n",
       "patch_artist : bool, optional (False)\n",
       "    If `False` produces boxes with the Line2D artist. Otherwise,\n",
       "    boxes and drawn with Patch artists.\n",
       "\n",
       "labels : sequence, optional\n",
       "    Labels for each dataset. Length must be compatible with\n",
       "    dimensions of ``x``.\n",
       "\n",
       "manage_ticks : bool, optional (True)\n",
       "    If True, the tick locations and labels will be adjusted to match\n",
       "    the boxplot positions.\n",
       "\n",
       "autorange : bool, optional (False)\n",
       "    When `True` and the data are distributed such that the 25th and\n",
       "    75th percentiles are equal, ``whis`` is set to (0, 100) such\n",
       "    that the whisker ends are at the minimum and maximum of the data.\n",
       "\n",
       "meanline : bool, optional (False)\n",
       "    If `True` (and ``showmeans`` is `True`), will try to render\n",
       "    the mean as a line spanning the full width of the box\n",
       "    according to ``meanprops`` (see below). Not recommended if\n",
       "    ``shownotches`` is also True. Otherwise, means will be shown\n",
       "    as points.\n",
       "\n",
       "zorder : scalar, optional (None)\n",
       "    Sets the zorder of the boxplot.\n",
       "\n",
       "Other Parameters\n",
       "----------------\n",
       "showcaps : bool, optional (True)\n",
       "    Show the caps on the ends of whiskers.\n",
       "showbox : bool, optional (True)\n",
       "    Show the central box.\n",
       "showfliers : bool, optional (True)\n",
       "    Show the outliers beyond the caps.\n",
       "showmeans : bool, optional (False)\n",
       "    Show the arithmetic means.\n",
       "capprops : dict, optional (None)\n",
       "    Specifies the style of the caps.\n",
       "boxprops : dict, optional (None)\n",
       "    Specifies the style of the box.\n",
       "whiskerprops : dict, optional (None)\n",
       "    Specifies the style of the whiskers.\n",
       "flierprops : dict, optional (None)\n",
       "    Specifies the style of the fliers.\n",
       "medianprops : dict, optional (None)\n",
       "    Specifies the style of the median.\n",
       "meanprops : dict, optional (None)\n",
       "    Specifies the style of the mean.\n",
       "\n",
       "Returns\n",
       "-------\n",
       "result : dict\n",
       "  A dictionary mapping each component of the boxplot to a list\n",
       "  of the `.Line2D` instances created. That dictionary has the\n",
       "  following keys (assuming vertical boxplots):\n",
       "\n",
       "  - ``boxes``: the main body of the boxplot showing the\n",
       "    quartiles and the median's confidence intervals if\n",
       "    enabled.\n",
       "\n",
       "  - ``medians``: horizontal lines at the median of each box.\n",
       "\n",
       "  - ``whiskers``: the vertical lines extending to the most\n",
       "    extreme, non-outlier data points.\n",
       "\n",
       "  - ``caps``: the horizontal lines at the ends of the\n",
       "    whiskers.\n",
       "\n",
       "  - ``fliers``: points representing data that extend beyond\n",
       "    the whiskers (fliers).\n",
       "\n",
       "  - ``means``: points or lines representing the means.\n",
       "\n",
       "Notes\n",
       "-----\n",
       "\n",
       "\n",
       ".. note::\n",
       "    In addition to the above described arguments, this function can take a\n",
       "    **data** keyword argument. If such a **data** argument is given, the\n",
       "    following arguments are replaced by **data[<arg>]**:\n",
       "\n",
       "    * All positional and all keyword arguments.\n",
       "\n",
       "    Objects passed as **data** must support item access (``data[<arg>]``) and\n",
       "    membership test (``<arg> in data``).\n",
       "\u001b[0;31mFile:\u001b[0m      ~/.local/share/virtualenvs/pythonds-fdcDjaSm/lib/python3.8/site-packages/matplotlib/pyplot.py\n",
       "\u001b[0;31mType:\u001b[0m      function\n"
      ]
     },
     "metadata": {},
     "output_type": "display_data"
    }
   ],
   "source": [
    "plt.boxplot?"
   ]
  },
  {
   "cell_type": "code",
   "execution_count": 36,
   "metadata": {},
   "outputs": [
    {
     "data": {
      "image/png": "[encoded data removed]",
      "text/plain": [
       "<Figure size 432x288 with 1 Axes>"
      ]
     },
     "metadata": {
      "needs_background": "light"
     },
     "output_type": "display_data"
    }
   ],
   "source": [
    "_ = plt.boxplot(iris.data)"
   ]
  },
  {
   "cell_type": "code",
   "execution_count": 37,
   "metadata": {},
   "outputs": [
    {
     "name": "stderr",
     "output_type": "stream",
     "text": [
      "No handles with labels found to put in legend.\n"
     ]
    },
    {
     "data": {
      "text/plain": [
       "<matplotlib.legend.Legend at 0x1259d4b50>"
      ]
     },
     "execution_count": 37,
     "metadata": {},
     "output_type": "execute_result"
    },
    {
     "data": {
      "image/png": "[encoded data removed]",
      "text/plain": [
       "<Figure size 432x288 with 1 Axes>"
      ]
     },
     "metadata": {
      "needs_background": "light"
     },
     "output_type": "display_data"
    }
   ],
   "source": [
    "plt.scatter(\n",
    "    iris.data[:, 0], \n",
    "    iris.data[:, 1], \n",
    "    c=iris.target, \n",
    "    cmap=plt.cm.Set1,\n",
    "    edgecolor='k',\n",
    ")\n",
    "plt.legend()"
   ]
  },
  {
   "cell_type": "code",
   "execution_count": 38,
   "metadata": {},
   "outputs": [
    {
     "data": {
      "text/plain": [
       "<matplotlib.collections.PathCollection at 0x125a33640>"
      ]
     },
     "execution_count": 38,
     "metadata": {},
     "output_type": "execute_result"
    },
    {
     "data": {
      "image/png": "[encoded data removed]",
      "text/plain": [
       "<Figure size 432x288 with 1 Axes>"
      ]
     },
     "metadata": {
      "needs_background": "light"
     },
     "output_type": "display_data"
    }
   ],
   "source": [
    "plt.scatter(\n",
    "    iris.data[:, 2], \n",
    "    iris.data[:, 3], \n",
    "    c=iris.target, \n",
    "    cmap=plt.cm.Set1,\n",
    "    edgecolor='k')"
   ]
  },
  {
   "cell_type": "code",
   "execution_count": 39,
   "metadata": {},
   "outputs": [
    {
     "data": {
      "text/plain": [
       "array([[5.1, 3.5, 1.4, 0.2],\n",
       "       [4.9, 3. , 1.4, 0.2],\n",
       "       [4.7, 3.2, 1.3, 0.2],\n",
       "       [4.6, 3.1, 1.5, 0.2],\n",
       "       [5. , 3.6, 1.4, 0.2],\n",
       "       [5.4, 3.9, 1.7, 0.4],\n",
       "       [4.6, 3.4, 1.4, 0.3],\n",
       "       [5. , 3.4, 1.5, 0.2],\n",
       "       [4.4, 2.9, 1.4, 0.2],\n",
       "       [4.9, 3.1, 1.5, 0.1],\n",
       "       [5.4, 3.7, 1.5, 0.2],\n",
       "       [4.8, 3.4, 1.6, 0.2],\n",
       "       [4.8, 3. , 1.4, 0.1],\n",
       "       [4.3, 3. , 1.1, 0.1],\n",
       "       [5.8, 4. , 1.2, 0.2],\n",
       "       [5.7, 4.4, 1.5, 0.4],\n",
       "       [5.4, 3.9, 1.3, 0.4],\n",
       "       [5.1, 3.5, 1.4, 0.3],\n",
       "       [5.7, 3.8, 1.7, 0.3],\n",
       "       [5.1, 3.8, 1.5, 0.3],\n",
       "       [5.4, 3.4, 1.7, 0.2],\n",
       "       [5.1, 3.7, 1.5, 0.4],\n",
       "       [4.6, 3.6, 1. , 0.2],\n",
       "       [5.1, 3.3, 1.7, 0.5],\n",
       "       [4.8, 3.4, 1.9, 0.2],\n",
       "       [5. , 3. , 1.6, 0.2],\n",
       "       [5. , 3.4, 1.6, 0.4],\n",
       "       [5.2, 3.5, 1.5, 0.2],\n",
       "       [5.2, 3.4, 1.4, 0.2],\n",
       "       [4.7, 3.2, 1.6, 0.2],\n",
       "       [4.8, 3.1, 1.6, 0.2],\n",
       "       [5.4, 3.4, 1.5, 0.4],\n",
       "       [5.2, 4.1, 1.5, 0.1],\n",
       "       [5.5, 4.2, 1.4, 0.2],\n",
       "       [4.9, 3.1, 1.5, 0.2],\n",
       "       [5. , 3.2, 1.2, 0.2],\n",
       "       [5.5, 3.5, 1.3, 0.2],\n",
       "       [4.9, 3.6, 1.4, 0.1],\n",
       "       [4.4, 3. , 1.3, 0.2],\n",
       "       [5.1, 3.4, 1.5, 0.2],\n",
       "       [5. , 3.5, 1.3, 0.3],\n",
       "       [4.5, 2.3, 1.3, 0.3],\n",
       "       [4.4, 3.2, 1.3, 0.2],\n",
       "       [5. , 3.5, 1.6, 0.6],\n",
       "       [5.1, 3.8, 1.9, 0.4],\n",
       "       [4.8, 3. , 1.4, 0.3],\n",
       "       [5.1, 3.8, 1.6, 0.2],\n",
       "       [4.6, 3.2, 1.4, 0.2],\n",
       "       [5.3, 3.7, 1.5, 0.2],\n",
       "       [5. , 3.3, 1.4, 0.2]])"
      ]
     },
     "execution_count": 39,
     "metadata": {},
     "output_type": "execute_result"
    }
   ],
   "source": [
    "mask = iris.target == 0\n",
    "\n",
    "iris.data[mask]"
   ]
  },
  {
   "cell_type": "code",
   "execution_count": 40,
   "metadata": {},
   "outputs": [
    {
     "data": {
      "text/plain": [
       "(0.0, 3.0)"
      ]
     },
     "execution_count": 40,
     "metadata": {},
     "output_type": "execute_result"
    },
    {
     "data": {
      "image/png": "[encoded data removed]",
      "text/plain": [
       "<Figure size 432x288 with 1 Axes>"
      ]
     },
     "metadata": {
      "needs_background": "light"
     },
     "output_type": "display_data"
    }
   ],
   "source": [
    "plt.scatter(\n",
    "    iris.data[mask, 2],\n",
    "    iris.data[mask, 3]\n",
    ")\n",
    "\n",
    "plt.xlim(0, 7)\n",
    "plt.ylim(0, 3)"
   ]
  },
  {
   "cell_type": "markdown",
   "metadata": {},
   "source": [
    "### Let's use Seaborn"
   ]
  },
  {
   "cell_type": "code",
   "execution_count": 41,
   "metadata": {},
   "outputs": [],
   "source": [
    "import seaborn as sns"
   ]
  },
  {
   "cell_type": "code",
   "execution_count": 42,
   "metadata": {},
   "outputs": [
    {
     "data": {
      "text/plain": [
       "<seaborn.axisgrid.PairGrid at 0x111119460>"
      ]
     },
     "execution_count": 42,
     "metadata": {},
     "output_type": "execute_result"
    },
    {
     "data": {
      "image/png": "[encoded data removed]",
      "text/plain": [
       "<Figure size 804.75x720 with 20 Axes>"
      ]
     },
     "metadata": {
      "needs_background": "light"
     },
     "output_type": "display_data"
    }
   ],
   "source": [
    "df = sns.load_dataset(\"iris\")\n",
    "sns.pairplot(df, hue=\"species\")"
   ]
  },
  {
   "cell_type": "code",
   "execution_count": 44,
   "metadata": {},
   "outputs": [
    {
     "data": {
      "text/plain": [
       "<matplotlib.axes._subplots.AxesSubplot at 0x11109a040>"
      ]
     },
     "execution_count": 44,
     "metadata": {},
     "output_type": "execute_result"
    },
    {
     "data": {
      "image/png": "[encoded data removed]",
      "text/plain": [
       "<Figure size 432x288 with 1 Axes>"
      ]
     },
     "metadata": {
      "needs_background": "light"
     },
     "output_type": "display_data"
    }
   ],
   "source": [
    "sns.scatterplot(a, a)"
   ]
  },
  {
   "cell_type": "code",
   "execution_count": 49,
   "metadata": {},
   "outputs": [
    {
     "data": {
      "text/plain": [
       "<matplotlib.axes._subplots.AxesSubplot at 0x12a0bd400>"
      ]
     },
     "execution_count": 49,
     "metadata": {},
     "output_type": "execute_result"
    },
    {
     "data": {
      "image/png": "[encoded data removed]",
      "text/plain": [
       "<Figure size 432x288 with 1 Axes>"
      ]
     },
     "metadata": {
      "needs_background": "light"
     },
     "output_type": "display_data"
    }
   ],
   "source": [
    "sns.lineplot(a, a**2)"
   ]
  },
  {
   "cell_type": "code",
   "execution_count": 57,
   "metadata": {},
   "outputs": [
    {
     "data": {
      "text/plain": [
       "<matplotlib.axes._subplots.AxesSubplot at 0x12a46af10>"
      ]
     },
     "execution_count": 57,
     "metadata": {},
     "output_type": "execute_result"
    },
    {
     "data": {
      "image/png": "[encoded data removed]",
      "text/plain": [
       "<Figure size 432x288 with 1 Axes>"
      ]
     },
     "metadata": {
      "needs_background": "light"
     },
     "output_type": "display_data"
    }
   ],
   "source": [
    "sns.boxplot(data=iris.data)"
   ]
  },
  {
   "cell_type": "code",
   "execution_count": 77,
   "metadata": {},
   "outputs": [
    {
     "data": {
      "text/plain": [
       "\u001b[0;31mSignature:\u001b[0m\n",
       "\u001b[0msns\u001b[0m\u001b[0;34m.\u001b[0m\u001b[0mscatterplot\u001b[0m\u001b[0;34m(\u001b[0m\u001b[0;34m\u001b[0m\n",
       "\u001b[0;34m\u001b[0m    \u001b[0mx\u001b[0m\u001b[0;34m=\u001b[0m\u001b[0;32mNone\u001b[0m\u001b[0;34m,\u001b[0m\u001b[0;34m\u001b[0m\n",
       "\u001b[0;34m\u001b[0m    \u001b[0my\u001b[0m\u001b[0;34m=\u001b[0m\u001b[0;32mNone\u001b[0m\u001b[0;34m,\u001b[0m\u001b[0;34m\u001b[0m\n",
       "\u001b[0;34m\u001b[0m    \u001b[0mhue\u001b[0m\u001b[0;34m=\u001b[0m\u001b[0;32mNone\u001b[0m\u001b[0;34m,\u001b[0m\u001b[0;34m\u001b[0m\n",
       "\u001b[0;34m\u001b[0m    \u001b[0mstyle\u001b[0m\u001b[0;34m=\u001b[0m\u001b[0;32mNone\u001b[0m\u001b[0;34m,\u001b[0m\u001b[0;34m\u001b[0m\n",
       "\u001b[0;34m\u001b[0m    \u001b[0msize\u001b[0m\u001b[0;34m=\u001b[0m\u001b[0;32mNone\u001b[0m\u001b[0;34m,\u001b[0m\u001b[0;34m\u001b[0m\n",
       "\u001b[0;34m\u001b[0m    \u001b[0mdata\u001b[0m\u001b[0;34m=\u001b[0m\u001b[0;32mNone\u001b[0m\u001b[0;34m,\u001b[0m\u001b[0;34m\u001b[0m\n",
       "\u001b[0;34m\u001b[0m    \u001b[0mpalette\u001b[0m\u001b[0;34m=\u001b[0m\u001b[0;32mNone\u001b[0m\u001b[0;34m,\u001b[0m\u001b[0;34m\u001b[0m\n",
       "\u001b[0;34m\u001b[0m    \u001b[0mhue_order\u001b[0m\u001b[0;34m=\u001b[0m\u001b[0;32mNone\u001b[0m\u001b[0;34m,\u001b[0m\u001b[0;34m\u001b[0m\n",
       "\u001b[0;34m\u001b[0m    \u001b[0mhue_norm\u001b[0m\u001b[0;34m=\u001b[0m\u001b[0;32mNone\u001b[0m\u001b[0;34m,\u001b[0m\u001b[0;34m\u001b[0m\n",
       "\u001b[0;34m\u001b[0m    \u001b[0msizes\u001b[0m\u001b[0;34m=\u001b[0m\u001b[0;32mNone\u001b[0m\u001b[0;34m,\u001b[0m\u001b[0;34m\u001b[0m\n",
       "\u001b[0;34m\u001b[0m    \u001b[0msize_order\u001b[0m\u001b[0;34m=\u001b[0m\u001b[0;32mNone\u001b[0m\u001b[0;34m,\u001b[0m\u001b[0;34m\u001b[0m\n",
       "\u001b[0;34m\u001b[0m    \u001b[0msize_norm\u001b[0m\u001b[0;34m=\u001b[0m\u001b[0;32mNone\u001b[0m\u001b[0;34m,\u001b[0m\u001b[0;34m\u001b[0m\n",
       "\u001b[0;34m\u001b[0m    \u001b[0mmarkers\u001b[0m\u001b[0;34m=\u001b[0m\u001b[0;32mTrue\u001b[0m\u001b[0;34m,\u001b[0m\u001b[0;34m\u001b[0m\n",
       "\u001b[0;34m\u001b[0m    \u001b[0mstyle_order\u001b[0m\u001b[0;34m=\u001b[0m\u001b[0;32mNone\u001b[0m\u001b[0;34m,\u001b[0m\u001b[0;34m\u001b[0m\n",
       "\u001b[0;34m\u001b[0m    \u001b[0mx_bins\u001b[0m\u001b[0;34m=\u001b[0m\u001b[0;32mNone\u001b[0m\u001b[0;34m,\u001b[0m\u001b[0;34m\u001b[0m\n",
       "\u001b[0;34m\u001b[0m    \u001b[0my_bins\u001b[0m\u001b[0;34m=\u001b[0m\u001b[0;32mNone\u001b[0m\u001b[0;34m,\u001b[0m\u001b[0;34m\u001b[0m\n",
       "\u001b[0;34m\u001b[0m    \u001b[0munits\u001b[0m\u001b[0;34m=\u001b[0m\u001b[0;32mNone\u001b[0m\u001b[0;34m,\u001b[0m\u001b[0;34m\u001b[0m\n",
       "\u001b[0;34m\u001b[0m    \u001b[0mestimator\u001b[0m\u001b[0;34m=\u001b[0m\u001b[0;32mNone\u001b[0m\u001b[0;34m,\u001b[0m\u001b[0;34m\u001b[0m\n",
       "\u001b[0;34m\u001b[0m    \u001b[0mci\u001b[0m\u001b[0;34m=\u001b[0m\u001b[0;36m95\u001b[0m\u001b[0;34m,\u001b[0m\u001b[0;34m\u001b[0m\n",
       "\u001b[0;34m\u001b[0m    \u001b[0mn_boot\u001b[0m\u001b[0;34m=\u001b[0m\u001b[0;36m1000\u001b[0m\u001b[0;34m,\u001b[0m\u001b[0;34m\u001b[0m\n",
       "\u001b[0;34m\u001b[0m    \u001b[0malpha\u001b[0m\u001b[0;34m=\u001b[0m\u001b[0;34m'auto'\u001b[0m\u001b[0;34m,\u001b[0m\u001b[0;34m\u001b[0m\n",
       "\u001b[0;34m\u001b[0m    \u001b[0mx_jitter\u001b[0m\u001b[0;34m=\u001b[0m\u001b[0;32mNone\u001b[0m\u001b[0;34m,\u001b[0m\u001b[0;34m\u001b[0m\n",
       "\u001b[0;34m\u001b[0m    \u001b[0my_jitter\u001b[0m\u001b[0;34m=\u001b[0m\u001b[0;32mNone\u001b[0m\u001b[0;34m,\u001b[0m\u001b[0;34m\u001b[0m\n",
       "\u001b[0;34m\u001b[0m    \u001b[0mlegend\u001b[0m\u001b[0;34m=\u001b[0m\u001b[0;34m'brief'\u001b[0m\u001b[0;34m,\u001b[0m\u001b[0;34m\u001b[0m\n",
       "\u001b[0;34m\u001b[0m    \u001b[0max\u001b[0m\u001b[0;34m=\u001b[0m\u001b[0;32mNone\u001b[0m\u001b[0;34m,\u001b[0m\u001b[0;34m\u001b[0m\n",
       "\u001b[0;34m\u001b[0m    \u001b[0;34m**\u001b[0m\u001b[0mkwargs\u001b[0m\u001b[0;34m,\u001b[0m\u001b[0;34m\u001b[0m\n",
       "\u001b[0;34m\u001b[0m\u001b[0;34m)\u001b[0m\u001b[0;34m\u001b[0m\u001b[0;34m\u001b[0m\u001b[0m\n",
       "\u001b[0;31mDocstring:\u001b[0m\n",
       "Draw a scatter plot with possibility of several semantic groupings.\n",
       "\n",
       "The relationship between ``x`` and ``y`` can be shown for different subsets\n",
       "of the data using the ``hue``, ``size``, and ``style`` parameters. These\n",
       "parameters control what visual semantics are used to identify the different\n",
       "subsets. It is possible to show up to three dimensions independently by\n",
       "using all three semantic types, but this style of plot can be hard to\n",
       "interpret and is often ineffective. Using redundant semantics (i.e. both\n",
       "``hue`` and ``style`` for the same variable) can be helpful for making\n",
       "graphics more accessible.\n",
       "\n",
       "See the :ref:`tutorial <relational_tutorial>` for more information.    \n",
       "\n",
       "The default treatment of the ``hue`` (and to a lesser extent, ``size``)\n",
       "semantic, if present, depends on whether the variable is inferred to\n",
       "represent \"numeric\" or \"categorical\" data. In particular, numeric variables\n",
       "are represented with a sequential colormap by default, and the legend\n",
       "entries show regular \"ticks\" with values that may or may not exist in the\n",
       "data. This behavior can be controlled through various parameters, as\n",
       "described and illustrated below.    \n",
       "\n",
       "Parameters\n",
       "----------\n",
       "x, y : names of variables in ``data`` or vector data, optional\n",
       "    Input data variables; must be numeric. Can pass data directly or\n",
       "    reference columns in ``data``.    \n",
       "hue : name of variables in ``data`` or vector data, optional\n",
       "    Grouping variable that will produce points with different colors.\n",
       "    Can be either categorical or numeric, although color mapping will\n",
       "    behave differently in latter case.\n",
       "size : name of variables in ``data`` or vector data, optional\n",
       "    Grouping variable that will produce points with different sizes.\n",
       "    Can be either categorical or numeric, although size mapping will\n",
       "    behave differently in latter case.\n",
       "style : name of variables in ``data`` or vector data, optional\n",
       "    Grouping variable that will produce points with different markers.\n",
       "    Can have a numeric dtype but will always be treated as categorical.\n",
       "data : DataFrame\n",
       "    Tidy (\"long-form\") dataframe where each column is a variable and each\n",
       "    row is an observation.    \n",
       "palette : palette name, list, or dict, optional\n",
       "    Colors to use for the different levels of the ``hue`` variable. Should\n",
       "    be something that can be interpreted by :func:`color_palette`, or a\n",
       "    dictionary mapping hue levels to matplotlib colors.    \n",
       "hue_order : list, optional\n",
       "    Specified order for the appearance of the ``hue`` variable levels,\n",
       "    otherwise they are determined from the data. Not relevant when the\n",
       "    ``hue`` variable is numeric.    \n",
       "hue_norm : tuple or Normalize object, optional\n",
       "    Normalization in data units for colormap applied to the ``hue``\n",
       "    variable when it is numeric. Not relevant if it is categorical.    \n",
       "sizes : list, dict, or tuple, optional\n",
       "    An object that determines how sizes are chosen when ``size`` is used.\n",
       "    It can always be a list of size values or a dict mapping levels of the\n",
       "    ``size`` variable to sizes. When ``size``  is numeric, it can also be\n",
       "    a tuple specifying the minimum and maximum size to use such that other\n",
       "    values are normalized within this range.    \n",
       "size_order : list, optional\n",
       "    Specified order for appearance of the ``size`` variable levels,\n",
       "    otherwise they are determined from the data. Not relevant when the\n",
       "    ``size`` variable is numeric.    \n",
       "size_norm : tuple or Normalize object, optional\n",
       "    Normalization in data units for scaling plot objects when the\n",
       "    ``size`` variable is numeric.    \n",
       "markers : boolean, list, or dictionary, optional\n",
       "    Object determining how to draw the markers for different levels of the\n",
       "    ``style`` variable. Setting to ``True`` will use default markers, or\n",
       "    you can pass a list of markers or a dictionary mapping levels of the\n",
       "    ``style`` variable to markers. Setting to ``False`` will draw\n",
       "    marker-less lines.  Markers are specified as in matplotlib.    \n",
       "style_order : list, optional\n",
       "    Specified order for appearance of the ``style`` variable levels\n",
       "    otherwise they are determined from the data. Not relevant when the\n",
       "    ``style`` variable is numeric.    \n",
       "{x,y}_bins : lists or arrays or functions\n",
       "    *Currently non-functional.*\n",
       "units : {long_form_var}\n",
       "    Grouping variable identifying sampling units. When used, a separate\n",
       "    line will be drawn for each unit with appropriate semantics, but no\n",
       "    legend entry will be added. Useful for showing distribution of\n",
       "    experimental replicates when exact identities are not needed.\n",
       "\n",
       "    *Currently non-functional.*\n",
       "estimator : name of pandas method or callable or None, optional\n",
       "    Method for aggregating across multiple observations of the ``y``\n",
       "    variable at the same ``x`` level. If ``None``, all observations will\n",
       "    be drawn.    \n",
       "    *Currently non-functional.*\n",
       "ci : int or \"sd\" or None, optional\n",
       "    Size of the confidence interval to draw when aggregating with an\n",
       "    estimator. \"sd\" means to draw the standard deviation of the data.\n",
       "    Setting to ``None`` will skip bootstrapping.    \n",
       "    *Currently non-functional.*\n",
       "n_boot : int, optional\n",
       "    Number of bootstraps to use for computing the confidence interval.    \n",
       "    *Currently non-functional.*\n",
       "alpha : float\n",
       "    Proportional opacity of the points.\n",
       "{x,y}_jitter : booleans or floats\n",
       "    *Currently non-functional.*\n",
       "legend : \"brief\", \"full\", or False, optional\n",
       "    How to draw the legend. If \"brief\", numeric ``hue`` and ``size``\n",
       "    variables will be represented with a sample of evenly spaced values.\n",
       "    If \"full\", every group will get an entry in the legend. If ``False``,\n",
       "    no legend data is added and no legend is drawn.    \n",
       "ax : matplotlib Axes, optional\n",
       "    Axes object to draw the plot onto, otherwise uses the current Axes.    \n",
       "kwargs : key, value mappings\n",
       "    Other keyword arguments are passed down to\n",
       "    :meth:`matplotlib.axes.Axes.scatter`.\n",
       "\n",
       "Returns\n",
       "-------\n",
       "ax : matplotlib Axes\n",
       "    Returns the Axes object with the plot drawn onto it.    \n",
       "\n",
       "See Also\n",
       "--------\n",
       "lineplot : Show the relationship between two variables connected with\n",
       "           lines to emphasize continuity.\n",
       "swarmplot : Draw a scatter plot with one categorical variable, arranging\n",
       "            the points to show the distribution of values.\n",
       "\n",
       "Examples\n",
       "--------\n",
       "\n",
       "Draw a simple scatter plot between two variables:\n",
       "\n",
       ".. plot::\n",
       "    :context: close-figs\n",
       "\n",
       "    >>> import seaborn as sns; sns.set()\n",
       "    >>> import matplotlib.pyplot as plt\n",
       "    >>> tips = sns.load_dataset(\"tips\")\n",
       "    >>> ax = sns.scatterplot(x=\"total_bill\", y=\"tip\", data=tips)\n",
       "\n",
       "Group by another variable and show the groups with different colors:\n",
       "\n",
       ".. plot::\n",
       "    :context: close-figs\n",
       "\n",
       "    >>> ax = sns.scatterplot(x=\"total_bill\", y=\"tip\", hue=\"time\",\n",
       "    ...                      data=tips)\n",
       "\n",
       "Show the grouping variable by varying both color and marker:\n",
       "\n",
       ".. plot::\n",
       "    :context: close-figs\n",
       "\n",
       "    >>> ax = sns.scatterplot(x=\"total_bill\", y=\"tip\",\n",
       "    ...                      hue=\"time\", style=\"time\", data=tips)\n",
       "\n",
       "Vary colors and markers to show two different grouping variables:\n",
       "\n",
       ".. plot::\n",
       "    :context: close-figs\n",
       "\n",
       "    >>> ax = sns.scatterplot(x=\"total_bill\", y=\"tip\",\n",
       "    ...                      hue=\"day\", style=\"time\", data=tips)\n",
       "\n",
       "Show a quantitative variable by varying the size of the points:\n",
       "\n",
       ".. plot::\n",
       "    :context: close-figs\n",
       "\n",
       "    >>> ax = sns.scatterplot(x=\"total_bill\", y=\"tip\", size=\"size\",\n",
       "    ...                      data=tips)\n",
       "\n",
       "Also show the quantitative variable by also using continuous colors:\n",
       "\n",
       ".. plot::\n",
       "    :context: close-figs\n",
       "\n",
       "    >>> ax = sns.scatterplot(x=\"total_bill\", y=\"tip\",\n",
       "    ...                      hue=\"size\", size=\"size\",\n",
       "    ...                      data=tips)\n",
       "\n",
       "Use a different continuous color map:\n",
       "\n",
       ".. plot::\n",
       "    :context: close-figs\n",
       "\n",
       "    >>> cmap = sns.cubehelix_palette(dark=.3, light=.8, as_cmap=True)\n",
       "    >>> ax = sns.scatterplot(x=\"total_bill\", y=\"tip\",\n",
       "    ...                      hue=\"size\", size=\"size\",\n",
       "    ...                      palette=cmap,\n",
       "    ...                      data=tips)\n",
       "\n",
       "Change the minimum and maximum point size and show all sizes in legend:\n",
       "\n",
       ".. plot::\n",
       "    :context: close-figs\n",
       "\n",
       "    >>> cmap = sns.cubehelix_palette(dark=.3, light=.8, as_cmap=True)\n",
       "    >>> ax = sns.scatterplot(x=\"total_bill\", y=\"tip\",\n",
       "    ...                      hue=\"size\", size=\"size\",\n",
       "    ...                      sizes=(20, 200), palette=cmap,\n",
       "    ...                      legend=\"full\", data=tips)\n",
       "\n",
       "Use a narrower range of color map intensities:\n",
       "\n",
       ".. plot::\n",
       "    :context: close-figs\n",
       "\n",
       "    >>> cmap = sns.cubehelix_palette(dark=.3, light=.8, as_cmap=True)\n",
       "    >>> ax = sns.scatterplot(x=\"total_bill\", y=\"tip\",\n",
       "    ...                      hue=\"size\", size=\"size\",\n",
       "    ...                      sizes=(20, 200), hue_norm=(0, 7),\n",
       "    ...                      legend=\"full\", data=tips)\n",
       "\n",
       "Vary the size with a categorical variable, and use a different palette:\n",
       "\n",
       ".. plot::\n",
       "    :context: close-figs\n",
       "\n",
       "    >>> cmap = sns.cubehelix_palette(dark=.3, light=.8, as_cmap=True)\n",
       "    >>> ax = sns.scatterplot(x=\"total_bill\", y=\"tip\",\n",
       "    ...                      hue=\"day\", size=\"smoker\",\n",
       "    ...                      palette=\"Set2\",\n",
       "    ...                      data=tips)\n",
       "\n",
       "Use a specific set of markers:\n",
       "\n",
       ".. plot::\n",
       "    :context: close-figs\n",
       "\n",
       "    >>> markers = {\"Lunch\": \"s\", \"Dinner\": \"X\"}\n",
       "    >>> ax = sns.scatterplot(x=\"total_bill\", y=\"tip\", style=\"time\",\n",
       "    ...                      markers=markers,\n",
       "    ...                      data=tips)\n",
       "\n",
       "Control plot attributes using matplotlib parameters:\n",
       "\n",
       ".. plot::\n",
       "    :context: close-figs\n",
       "\n",
       "    >>> ax = sns.scatterplot(x=\"total_bill\", y=\"tip\",\n",
       "    ...                      s=100, color=\".2\", marker=\"+\",\n",
       "    ...                      data=tips)\n",
       "\n",
       "Pass data vectors instead of names in a data frame:\n",
       "\n",
       ".. plot::\n",
       "    :context: close-figs\n",
       "\n",
       "    >>> iris = sns.load_dataset(\"iris\")\n",
       "    >>> ax = sns.scatterplot(x=iris.sepal_length, y=iris.sepal_width,\n",
       "    ...                      hue=iris.species, style=iris.species)\n",
       "\n",
       "Pass a wide-form dataset and plot against its index:\n",
       "\n",
       ".. plot::\n",
       "    :context: close-figs\n",
       "\n",
       "    >>> import numpy as np, pandas as pd; plt.close(\"all\")\n",
       "    >>> index = pd.date_range(\"1 1 2000\", periods=100,\n",
       "    ...                       freq=\"m\", name=\"date\")\n",
       "    >>> data = np.random.randn(100, 4).cumsum(axis=0)\n",
       "    >>> wide_df = pd.DataFrame(data, index, [\"a\", \"b\", \"c\", \"d\"])\n",
       "    >>> ax = sns.scatterplot(data=wide_df)\n",
       "\n",
       "Use :func:`relplot` to combine :func:`scatterplot` and :class:`FacetGrid`:\n",
       "This allows grouping within additional categorical variables. Using\n",
       ":func:`relplot` is safer than using :class:`FacetGrid` directly, as it\n",
       "ensures synchronization of the semantic mappings across facets.\n",
       "\n",
       ".. plot::\n",
       "    :context: close-figs\n",
       "\n",
       "    >>> g = sns.relplot(x=\"total_bill\", y=\"tip\",\n",
       "    ...                  col=\"time\", hue=\"day\", style=\"day\",\n",
       "    ...                  kind=\"scatter\", data=tips)\n",
       "\u001b[0;31mFile:\u001b[0m      ~/.local/share/virtualenvs/pythonds-fdcDjaSm/lib/python3.8/site-packages/seaborn/relational.py\n",
       "\u001b[0;31mType:\u001b[0m      function\n"
      ]
     },
     "metadata": {},
     "output_type": "display_data"
    }
   ],
   "source": [
    "sns.scatterplot?"
   ]
  },
  {
   "cell_type": "code",
   "execution_count": 81,
   "metadata": {},
   "outputs": [
    {
     "data": {
      "text/plain": [
       "<matplotlib.axes._subplots.AxesSubplot at 0x12b7d2310>"
      ]
     },
     "execution_count": 81,
     "metadata": {},
     "output_type": "execute_result"
    },
    {
     "data": {
      "image/png": "[encoded data removed]",
      "text/plain": [
       "<Figure size 432x288 with 1 Axes>"
      ]
     },
     "metadata": {
      "needs_background": "light"
     },
     "output_type": "display_data"
    }
   ],
   "source": [
    "sns.scatterplot(\n",
    "    iris.data[:, 0],\n",
    "    iris.data[:, 1],\n",
    "    hue=iris.target\n",
    ")"
   ]
  },
  {
   "cell_type": "code",
   "execution_count": null,
   "metadata": {},
   "outputs": [],
   "source": []
  }
 ],
 "metadata": {
  "kernelspec": {
   "display_name": "Python 3",
   "language": "python",
   "name": "python3"
  },
  "language_info": {
   "codemirror_mode": {
    "name": "ipython",
    "version": 3
   },
   "file_extension": ".py",
   "mimetype": "text/x-python",
   "name": "python",
   "nbconvert_exporter": "python",
   "pygments_lexer": "ipython3",
   "version": "3.8.2"
  }
 },
 "nbformat": 4,
 "nbformat_minor": 4
}
